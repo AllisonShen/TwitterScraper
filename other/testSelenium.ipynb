{
 "cells": [
  {
   "cell_type": "code",
   "execution_count": 7,
   "id": "standard-statement",
   "metadata": {},
   "outputs": [],
   "source": [
    "from io import StringIO, BytesIO\n",
    "import os\n",
    "import re\n",
    "from time import sleep\n",
    "import random\n",
    "\n",
    "\n",
    "\n",
    "import datetime\n",
    "import pandas as pd\n",
    "import platform\n",
    "\n",
    "import chromedriver_autoinstaller\n",
    "from selenium import webdriver\n",
    "from selenium.webdriver.chrome.options import Options\n",
    "# import pathlib\n",
    "\n",
    "from selenium.webdriver.support.wait import WebDriverWait\n",
    "from selenium.webdriver.support import expected_conditions as EC\n",
    "from selenium.webdriver.common.by import By\n",
    "# from . import const\n",
    "import urllib\n",
    "\n",
    "\n"
   ]
  },
  {
   "cell_type": "code",
   "execution_count": 42,
   "id": "proof-night",
   "metadata": {},
   "outputs": [],
   "source": [
    "from selenium.webdriver.common.keys import Keys\n",
    "from selenium.common.exceptions import NoSuchElementException\n",
    "from selenium.webdriver import Chrome\n",
    "from selenium.common import exceptions"
   ]
  },
  {
   "cell_type": "code",
   "execution_count": 18,
   "id": "opening-albany",
   "metadata": {},
   "outputs": [],
   "source": [
    "import getpass\n"
   ]
  },
  {
   "cell_type": "code",
   "execution_count": 13,
   "id": "bright-arizona",
   "metadata": {},
   "outputs": [],
   "source": [
    "driver = Chrome()"
   ]
  },
  {
   "cell_type": "code",
   "execution_count": 14,
   "id": "affected-michigan",
   "metadata": {},
   "outputs": [],
   "source": [
    "##################################login\n",
    "url = 'https://twitter.com/login'\n",
    "driver.get(url)"
   ]
  },
  {
   "cell_type": "code",
   "execution_count": 15,
   "id": "medieval-silicon",
   "metadata": {},
   "outputs": [],
   "source": [
    "xpath_username = '//input[@name=\"session[username_or_email]\"]'\n",
    "\n",
    "#input from the user # needs to be modified to the function's argument\n",
    "username = \"xiaxin.shen@outlook.com\"\n",
    "password = None\n",
    "#input from the user\n",
    "\n",
    "uid_input = driver.find_element_by_xpath(xpath_username)\n",
    "uid_input.send_keys(username)\n",
    "\n",
    "# single / means starts from the root\n",
    "# double // means starts from current node & matches anywhere"
   ]
  },
  {
   "cell_type": "code",
   "execution_count": 20,
   "id": "varied-segment",
   "metadata": {},
   "outputs": [
    {
     "name": "stdout",
     "output_type": "stream",
     "text": [
      "········\n"
     ]
    }
   ],
   "source": [
    "password = getpass.getpass() # make the input looks like a secret"
   ]
  },
  {
   "cell_type": "code",
   "execution_count": 21,
   "id": "stainless-third",
   "metadata": {},
   "outputs": [],
   "source": [
    "pwd_input = driver.find_element_by_xpath('//input[@name=\"session[password]\"]')\n",
    "pwd_input.send_keys(password)"
   ]
  },
  {
   "cell_type": "code",
   "execution_count": 22,
   "id": "heard-gibson",
   "metadata": {},
   "outputs": [],
   "source": [
    "pwd_input.send_keys(Keys.RETURN)\n",
    "#######################################"
   ]
  },
  {
   "cell_type": "code",
   "execution_count": 23,
   "id": "guilty-steps",
   "metadata": {},
   "outputs": [],
   "source": [
    "####################################### Search through the bar"
   ]
  },
  {
   "cell_type": "code",
   "execution_count": 24,
   "id": "middle-clearance",
   "metadata": {},
   "outputs": [],
   "source": [
    "##################################Go to twitter/explore\n",
    "url = 'https://twitter.com/explore'\n",
    "driver.get(url)\n",
    "\n"
   ]
  },
  {
   "cell_type": "code",
   "execution_count": 27,
   "id": "wrapped-profile",
   "metadata": {},
   "outputs": [],
   "source": [
    "#argument\n",
    "# search_term = \"Covid-19\"\n",
    "search_term = \"BBC news\"  #bug, needs to clear first, update later\n",
    "\n",
    "\n",
    "#\n",
    "xpath_search = '//input[@aria-label=\"Search query\"]'\n",
    "search_input = driver.find_element_by_xpath(xpath_search)\n",
    "search_input.send_keys(search_term)\n",
    "search_input.send_keys(Keys.RETURN)"
   ]
  },
  {
   "cell_type": "code",
   "execution_count": 45,
   "id": "devoted-montana",
   "metadata": {},
   "outputs": [],
   "source": [
    "tab_name = \"Latest\" #argument\n",
    "# tab_name = \"People\" #argument\n",
    "\n",
    "tab = driver.find_element_by_link_text(tab_name)\n",
    "tab.click()  #go to specific tab\n",
    "xpath_tab_state = f'//a[contains(text(),\\\"{tab_name}\\\") and @aria-selected=\\\"true\\\"]'\n"
   ]
  },
  {
   "cell_type": "code",
   "execution_count": 47,
   "id": "professional-nashville",
   "metadata": {},
   "outputs": [],
   "source": [
    "#collect tweets from current view\n",
    "\n",
    "# testId = \"UserCell\"\n",
    "testId = \"tweet\"\n",
    "lookback_limit=25\n",
    "\n",
    "page_cards = driver.find_elements_by_xpath(f'//div[@data-testid=\"{testId}\"]')\n",
    "card = page_cards[0]\n",
    "# if len(page_cards) <= lookback_limit:\n",
    "#     return page_cards\n",
    "# else:\n",
    "#     return page_cards[-lookback_limit:]"
   ]
  },
  {
   "cell_type": "code",
   "execution_count": 48,
   "id": "psychological-scholarship",
   "metadata": {
    "scrolled": true
   },
   "outputs": [
    {
     "name": "stdout",
     "output_type": "stream",
     "text": [
      "Michael Williams\n"
     ]
    }
   ],
   "source": [
    "#findusername\n",
    "user = card.find_element_by_xpath('.//span').text  #give the first span after the current tag\n",
    "print(user)"
   ]
  },
  {
   "cell_type": "code",
   "execution_count": 49,
   "id": "postal-reducing",
   "metadata": {},
   "outputs": [
    {
     "name": "stdout",
     "output_type": "stream",
     "text": [
      "590th Generation Briton\n"
     ]
    }
   ],
   "source": [
    "#another test\n",
    "card = page_cards[7]  #starts from 0, so the 8th\n",
    "user = card.find_element_by_xpath('.//span').text  #give the first span after the current tag\n",
    "print(user)"
   ]
  },
  {
   "cell_type": "code",
   "execution_count": 50,
   "id": "sufficient-princeton",
   "metadata": {},
   "outputs": [
    {
     "name": "stdout",
     "output_type": "stream",
     "text": [
      "@Micwilliams83\n"
     ]
    }
   ],
   "source": [
    "#twitter handler; does not work\n",
    "card = page_cards[0]\n",
    "# card.find_element_by_xpath('.//span[contains(text(), \"@\")]').text\n",
    "\n",
    "for card in page_cards:\n",
    "    try:\n",
    "        handle = card.find_element_by_xpath('.//span[contains(text(), \"@\")]').text\n",
    "        print(handle)\n",
    "        break\n",
    "    except exceptions.NoSuchElementException:\n",
    "        handle = \"\"\n"
   ]
  },
  {
   "cell_type": "code",
   "execution_count": 51,
   "id": "identified-vitamin",
   "metadata": {},
   "outputs": [
    {
     "name": "stdout",
     "output_type": "stream",
     "text": [
      "2021-03-29T18:13:02.000Z\n"
     ]
    }
   ],
   "source": [
    "postdate = card.find_element_by_xpath('.//time').get_attribute('datetime')\n",
    "print(postdate)"
   ]
  },
  {
   "cell_type": "code",
   "execution_count": 52,
   "id": "collect-stability",
   "metadata": {},
   "outputs": [
    {
     "name": "stdout",
     "output_type": "stream",
     "text": [
      "Replying to \n",
      "@monkema95521866\n",
      " @jazzminndragon\n",
      " and 3 others\n"
     ]
    }
   ],
   "source": [
    "_comment = card.find_element_by_xpath('.//div[2]/div[2]/div[1]').text\n",
    "print(_comment)"
   ]
  },
  {
   "cell_type": "code",
   "execution_count": 53,
   "id": "random-trustee",
   "metadata": {},
   "outputs": [],
   "source": [
    "_responding = card.find_element_by_xpath('.//div[2]/div[2]/div[2]').text\n",
    "reply_count = card.find_element_by_xpath('.//div[@data-testid=\"reply\"]').text\n",
    "retweet_count = card.find_element_by_xpath('.//div[@data-testid=\"retweet\"]').text\n",
    "like_count = card.find_element_by_xpath('.//div[@data-testid=\"like\"]').text\n"
   ]
  },
  {
   "cell_type": "code",
   "execution_count": 54,
   "id": "equipped-pipeline",
   "metadata": {},
   "outputs": [
    {
     "name": "stdout",
     "output_type": "stream",
     "text": [
      "Wouldn't matter if he was Hitler - kneeling on a suspect's neck is an illegal restraint and led to his death.\n",
      "\n",
      "\n",
      "\n"
     ]
    }
   ],
   "source": [
    "print(_responding)\n",
    "print(reply_count)\n",
    "print(retweet_count)\n",
    "print(like_count)\n"
   ]
  },
  {
   "cell_type": "code",
   "execution_count": 55,
   "id": "technological-deployment",
   "metadata": {},
   "outputs": [],
   "source": [
    "driver.execute_script(\"window.scrollTo(0, document.body.scrollHeight);\")\n",
    "#scroll down to the bottom"
   ]
  },
  {
   "cell_type": "code",
   "execution_count": null,
   "id": "dirty-lancaster",
   "metadata": {},
   "outputs": [],
   "source": []
  }
 ],
 "metadata": {
  "kernelspec": {
   "display_name": "Python 3",
   "language": "python",
   "name": "python3"
  },
  "language_info": {
   "codemirror_mode": {
    "name": "ipython",
    "version": 3
   },
   "file_extension": ".py",
   "mimetype": "text/x-python",
   "name": "python",
   "nbconvert_exporter": "python",
   "pygments_lexer": "ipython3",
   "version": "3.8.8"
  }
 },
 "nbformat": 4,
 "nbformat_minor": 5
}
